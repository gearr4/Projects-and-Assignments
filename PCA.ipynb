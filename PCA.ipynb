{
 "cells": [
  {
   "cell_type": "code",
   "execution_count": 2,
   "metadata": {},
   "outputs": [],
   "source": [
    "#principal compenent analysis\n",
    "from sklearn.decomposition import PCA\n",
    "from sklearn.datasets import make_blobs"
   ]
  },
  {
   "cell_type": "code",
   "execution_count": null,
   "metadata": {},
   "outputs": [],
   "source": []
  },
  {
   "cell_type": "code",
   "execution_count": 41,
   "metadata": {},
   "outputs": [
    {
     "name": "stdout",
     "output_type": "stream",
     "text": [
      "[[ -7.41158362  -2.0081228    5.58751307  -7.67373757   0.33493539\n",
      "   10.67807792   1.15483559   9.907489     8.05895968  -4.53617756]\n",
      " [  8.18096607  -2.29278539  -7.69032516  -4.45686339  -6.24712027\n",
      "    7.40431888  -9.76568049  -1.04627422  -0.81818683  -3.73478263]\n",
      " [  7.98304487  -3.65243284  -9.43912322  -2.51714962  -6.27205018\n",
      "    4.94768333  -9.57323639  -1.19274968  -1.52986551  -5.1496563 ]\n",
      " [ -5.75687317  -1.36570996   4.83619402  -8.33214223   0.12111891\n",
      "    8.62512627   0.94695319   8.19879525   7.38564927  -3.72080873]\n",
      " [ -6.75571658  -9.31345035  -9.48254464   3.56197447  -9.45693931\n",
      "    1.46384774   4.22130573  -1.87246803 -10.86792067   6.0692677 ]]\n",
      "[1 0 0 1 2]\n"
     ]
    }
   ],
   "source": [
    "x,y=make_blobs(n_samples=5,n_features=10,random_state=None)\n",
    "print(x)\n",
    "print(y)"
   ]
  },
  {
   "cell_type": "code",
   "execution_count": 43,
   "metadata": {},
   "outputs": [
    {
     "name": "stdout",
     "output_type": "stream",
     "text": [
      "(5, 10)\n",
      "(5,)\n"
     ]
    }
   ],
   "source": [
    "print(x.shape)\n",
    "print(y.shape)"
   ]
  },
  {
   "cell_type": "code",
   "execution_count": 44,
   "metadata": {},
   "outputs": [],
   "source": [
    "pca=PCA(n_components=3)"
   ]
  },
  {
   "cell_type": "code",
   "execution_count": 47,
   "metadata": {},
   "outputs": [
    {
     "name": "stdout",
     "output_type": "stream",
     "text": [
      "[0.64356377 0.34973392 0.00424014]\n"
     ]
    }
   ],
   "source": [
    "pca.fit(x)\n",
    "print(pca.explained_variance_ratio_)"
   ]
  },
  {
   "cell_type": "code",
   "execution_count": 54,
   "metadata": {},
   "outputs": [],
   "source": [
    "first_pc=pca.components_[0]\n",
    "two_pc=pca.components_[1]\n",
    "three_pc=pca.components_[2]"
   ]
  },
  {
   "cell_type": "code",
   "execution_count": 56,
   "metadata": {},
   "outputs": [
    {
     "name": "stdout",
     "output_type": "stream",
     "text": [
      "[-0.29823832  0.14718831  0.51543691 -0.27577888  0.28509181  0.20539242\n",
      "  0.16876017  0.38178644  0.47584272 -0.1533941 ]\n",
      "[-0.61037049 -0.21090033  0.06052371  0.21394321 -0.06594441 -0.13903655\n",
      "  0.55008038  0.04397411 -0.27319274  0.36152158]\n",
      "[-1.29042577e-01 -2.87684114e-01 -2.08999628e-01  3.86760651e-01\n",
      "  1.71408270e-01 -4.47802515e-01 -3.11401733e-04  2.35924424e-01\n",
      "  1.56914045e-01 -6.30183214e-01]\n"
     ]
    }
   ],
   "source": [
    "print(first_pc)\n",
    "print(two_pc)\n",
    "print(three_pc)"
   ]
  },
  {
   "cell_type": "code",
   "execution_count": 59,
   "metadata": {},
   "outputs": [
    {
     "data": {
      "text/plain": [
       "(5, 3)"
      ]
     },
     "execution_count": 59,
     "metadata": {},
     "output_type": "execute_result"
    }
   ],
   "source": [
    "pc_reduced=pca.transform(x)\n",
    "pc_reduced.shape"
   ]
  },
  {
   "cell_type": "code",
   "execution_count": null,
   "metadata": {},
   "outputs": [],
   "source": []
  }
 ],
 "metadata": {
  "kernelspec": {
   "display_name": "Python 3",
   "language": "python",
   "name": "python3"
  },
  "language_info": {
   "codemirror_mode": {
    "name": "ipython",
    "version": 3
   },
   "file_extension": ".py",
   "mimetype": "text/x-python",
   "name": "python",
   "nbconvert_exporter": "python",
   "pygments_lexer": "ipython3",
   "version": "3.7.3"
  }
 },
 "nbformat": 4,
 "nbformat_minor": 2
}
